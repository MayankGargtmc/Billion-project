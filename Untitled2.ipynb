{
  "nbformat": 4,
  "nbformat_minor": 0,
  "metadata": {
    "colab": {
      "name": "Untitled2.ipynb",
      "provenance": [],
      "authorship_tag": "ABX9TyMAuIqZR01P+5rcVzuGv6Zk",
      "include_colab_link": true
    },
    "kernelspec": {
      "name": "python3",
      "display_name": "Python 3"
    },
    "language_info": {
      "name": "python"
    }
  },
  "cells": [
    {
      "cell_type": "markdown",
      "metadata": {
        "id": "view-in-github",
        "colab_type": "text"
      },
      "source": [
        "<a href=\"https://colab.research.google.com/github/MayankGargtmc/Billion-project/blob/main/Untitled2.ipynb\" target=\"_parent\"><img src=\"https://colab.research.google.com/assets/colab-badge.svg\" alt=\"Open In Colab\"/></a>"
      ]
    },
    {
      "cell_type": "code",
      "execution_count": 4,
      "metadata": {
        "colab": {
          "base_uri": "https://localhost:8080/",
          "height": 269
        },
        "id": "Gir-M4MPwANz",
        "outputId": "8c93d9e1-b9aa-47c1-f737-ef6b2dbd1fb8"
      },
      "outputs": [
        {
          "output_type": "stream",
          "name": "stdout",
          "text": [
            "pygame 2.1.2 (SDL 2.0.16, Python 3.7.13)\n",
            "Hello from the pygame community. https://www.pygame.org/contribute.html\n"
          ]
        },
        {
          "output_type": "error",
          "ename": "error",
          "evalue": "ignored",
          "traceback": [
            "\u001b[0;31m---------------------------------------------------------------------------\u001b[0m",
            "\u001b[0;31merror\u001b[0m                                     Traceback (most recent call last)",
            "\u001b[0;32m<ipython-input-4-1d9d0a431923>\u001b[0m in \u001b[0;36m<module>\u001b[0;34m()\u001b[0m\n\u001b[1;32m      6\u001b[0m \u001b[0mscreen_width\u001b[0m\u001b[0;34m=\u001b[0m\u001b[0;36m600\u001b[0m\u001b[0;34m\u001b[0m\u001b[0;34m\u001b[0m\u001b[0m\n\u001b[1;32m      7\u001b[0m \u001b[0mscreen_height\u001b[0m\u001b[0;34m=\u001b[0m\u001b[0;36m500\u001b[0m\u001b[0;34m\u001b[0m\u001b[0;34m\u001b[0m\u001b[0m\n\u001b[0;32m----> 8\u001b[0;31m \u001b[0mscreen\u001b[0m \u001b[0;34m=\u001b[0m \u001b[0mpygame\u001b[0m\u001b[0;34m.\u001b[0m\u001b[0mdisplay\u001b[0m\u001b[0;34m.\u001b[0m\u001b[0mset_mode\u001b[0m\u001b[0;34m(\u001b[0m\u001b[0;34m(\u001b[0m\u001b[0mscreen_width\u001b[0m\u001b[0;34m,\u001b[0m\u001b[0mscreen_height\u001b[0m\u001b[0;34m)\u001b[0m\u001b[0;34m)\u001b[0m\u001b[0;34m\u001b[0m\u001b[0;34m\u001b[0m\u001b[0m\n\u001b[0m\u001b[1;32m      9\u001b[0m \u001b[0mpygame\u001b[0m\u001b[0;34m.\u001b[0m\u001b[0mdisplay\u001b[0m\u001b[0;34m.\u001b[0m\u001b[0mset_caption\u001b[0m\u001b[0;34m(\u001b[0m\u001b[0;34m\"DJ DINO\"\u001b[0m\u001b[0;34m)\u001b[0m\u001b[0;34m\u001b[0m\u001b[0;34m\u001b[0m\u001b[0m\n\u001b[1;32m     10\u001b[0m \u001b[0;34m\u001b[0m\u001b[0m\n",
            "\u001b[0;31merror\u001b[0m: No available video device"
          ]
        }
      ],
      "source": [
        "import pygame\n",
        "from pygame.locals import *\n",
        "\n",
        "pygame.init()\n",
        "\n",
        "screen_width=600\n",
        "screen_height=500\n",
        "screen = pygame.display.set_mode((screen_width,screen_height))\n",
        "pygame.display.set_caption(\"DJ DINO\")\n",
        "\n",
        "\n",
        "\n",
        "white = (255, 255, 255)\n",
        "black = (0,0,0)\n",
        "tree1 = pygame.image.load(\"SmallCactus1.png\")\n",
        "tree2 = pygame.image.load(\"LargeCactus2.png\")\n",
        "tree3 = pygame.image.load(\"SmallCactus3.png\")\n",
        "tree4 = pygame.image.load(\"lake1.jfif\")\n",
        "\n",
        "tree4 = pygame.transform.scale(tree4, (70, 70))\n",
        "tree2 = pygame.transform.scale(tree2, (70, 70))\n",
        "dragon = pygame.image.load(\"flappy1.png\")\n",
        "dragon = pygame.transform.scale(dragon, (70, 70))\n",
        "dragon1 = pygame.image.load(\"flappy1.png\")\n",
        "dragon1 = pygame.transform.scale(dragon1, (70, 70))\n",
        "dragon2 = pygame.image.load(\"DinoRun2.png\")\n",
        "dragon2 = pygame.transform.scale(dragon2, (70, 70))\n",
        "\n",
        "\n",
        "#pickSound = pygame.mixer.Sound('sound1.mpeg')\n",
        "pygame.mixer.music.load('sound1.mpeg')\n",
        "pygame.mixer.music.play(-1,0.0)\n",
        "pygame.mixer.music.load('sound2.mpeg')\n",
        "pygame.mixer.music.play(-1,0.0)\n",
        "\n",
        "\n",
        "walk = [dragon, dragon, dragon, dragon, dragon, dragon, dragon1, dragon1, dragon1, dragon1, dragon1, dragon1, dragon2,\n",
        "        dragon2, dragon2, dragon2, dragon2, dragon2]\n",
        "\n",
        "background = pygame.image.load(\"background0.jpg\")\n",
        "background = pygame.transform.scale(background, (600, 500))\n",
        "\n",
        "def gameloop():\n",
        "    backvelo = 0\n",
        "    backx = 0\n",
        "    backy = 0\n",
        "    treex = 600\n",
        "    treey = 300\n",
        "    drawx = 50\n",
        "    drawy = 300\n",
        "    walkpoint = 0\n",
        "    game = False\n",
        "    gameover = False\n",
        "    jump = False\n",
        "    gravity = 7\n",
        "    font = pygame.font.Font('freesansbold.ttf', 20)\n",
        "    score = 0\n",
        "\n",
        "    while True:\n",
        "        for event in pygame.event.get():\n",
        "            if event.type== QUIT:\n",
        "                pygame.quit()\n",
        "            if event.type == KEYDOWN:\n",
        "                if event.key == K_UP:\n",
        "                    if drawy == 300:\n",
        "                        jump = True\n",
        "                        backvelo=6\n",
        "                        game = True\n",
        "                if event.key == K_SPACE:\n",
        "                    gameloop()\n",
        "\n",
        "        if 301 > drawy > 150:\n",
        "            if jump == True:\n",
        "                drawy -= 7\n",
        "        else:\n",
        "            jump = False\n",
        "        print(drawy)\n",
        "        if drawy < 300:\n",
        "            if jump == False:\n",
        "                drawy += gravity\n",
        "\n",
        "        if treex <= drawx + 70 <= treex + 70 and treey <= drawy + 70 <= treey + 70:\n",
        "            backvelo = 0\n",
        "            walkpoint = 0\n",
        "            game = False\n",
        "            gameover = True\n",
        "        if treex+400 <= drawx + 70 <= treex+ 470 and treey <= drawy + 70 <= treey + 70:\n",
        "            backvelo = 0\n",
        "            walkpoint = 0\n",
        "            game = False\n",
        "            gameover = True\n",
        "        if treex+800 <= drawx + 70 <= treex + 870 and treey <= drawy + 70 <= treey + 70:\n",
        "            backvelo = 0\n",
        "            walkpoint = 0\n",
        "            game = False\n",
        "            gameover = True\n",
        "        if treex+1200 <= drawx + 70 <= treex + 1270 and treey <= drawy + 70 <= treey + 70:\n",
        "            backvelo = 0\n",
        "            walkpoint = 0\n",
        "            game = False\n",
        "            gameover = True\n",
        "\n",
        "        if game == True:\n",
        "            score +=1\n",
        "\n",
        "        if backx==-600:\n",
        "            backx=0\n",
        "        if treex<-1200:\n",
        "            treex=600\n",
        "\n",
        "        backx -= backvelo\n",
        "        treex -= backvelo\n",
        "        text = font.render(\"Score \" + str(score),True,black)\n",
        "        text1 = font.render(\"Game over press up to continue \",True,black)\n",
        "        screen.fill(white)\n",
        "        screen.blit(background , [backx,backy])\n",
        "        screen.blit(background , [backx+600,backy])\n",
        "\n",
        "        screen.blit(text, [400, 150])\n",
        "        if gameover == True:\n",
        "            screen.blit(text1, [200, 200])\n",
        "\n",
        "        screen.blit(tree1,[treex,treey])\n",
        "        screen.blit(tree2, [treex+400, treey])\n",
        "        screen.blit(tree3, [treex+800, treey])\n",
        "        screen.blit(tree4, [treex+1200, treey])\n",
        "        screen.blit(walk[walkpoint],[drawx,drawy])\n",
        "        if game == True:\n",
        "             walkpoint+=1\n",
        "             if walkpoint>15:\n",
        "                walkpoint=0\n",
        "        pygame.display.update()\n",
        "        clock = pygame.time.Clock()\n",
        "        clock.tick(100)\n",
        "\n",
        "gameloop()\n",
        "\n"
      ]
    },
    {
      "cell_type": "code",
      "source": [
        "pip install pygame"
      ],
      "metadata": {
        "colab": {
          "base_uri": "https://localhost:8080/"
        },
        "id": "ZW-7txFXwmhX",
        "outputId": "fa05f03d-7081-4c61-c929-61ef14f2427d"
      },
      "execution_count": 3,
      "outputs": [
        {
          "output_type": "stream",
          "name": "stdout",
          "text": [
            "Looking in indexes: https://pypi.org/simple, https://us-python.pkg.dev/colab-wheels/public/simple/\n",
            "Collecting pygame\n",
            "  Downloading pygame-2.1.2-cp37-cp37m-manylinux_2_17_x86_64.manylinux2014_x86_64.whl (21.8 MB)\n",
            "\u001b[K     |████████████████████████████████| 21.8 MB 1.4 MB/s \n",
            "\u001b[?25hInstalling collected packages: pygame\n",
            "Successfully installed pygame-2.1.2\n"
          ]
        }
      ]
    }
  ]
}